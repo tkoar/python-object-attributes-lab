{
 "cells": [
  {
   "cell_type": "markdown",
   "metadata": {},
   "source": [
    "# Python Object Attributes Lab"
   ]
  },
  {
   "cell_type": "markdown",
   "metadata": {},
   "source": [
    "## Introduction\n",
    "In this lab, we will practice using python decorators and instance methods to interact with our instance variables."
   ]
  },
  {
   "cell_type": "markdown",
   "metadata": {},
   "source": [
    "## Objectives\n",
    "\n",
    "* Define Python classes\n",
    "* Define instance methods that both read and write instance variables\n",
    "* Use instance methods to create instance variables\n",
    "* Practice using property decorators and "
   ]
  },
  {
   "cell_type": "markdown",
   "metadata": {},
   "source": [
    "## Defining Classes and Instance Methods"
   ]
  },
  {
   "cell_type": "markdown",
   "metadata": {},
   "source": [
    "Define a passenger class in the passenger.py file in your directory. In this class, define methods that both read and write (get and set) a passengers `_first`, `_last`, and an `_email`, which will represent a passengers first name, last name, and email respecitively. The methods should be named `first`, `last`, and `email` and use the appropriate decorators. \n",
    "\n",
    "Next, write an instance method that returns the passengers fullname in all caps and call it `yell_name`. "
   ]
  },
  {
   "cell_type": "code",
   "execution_count": null,
   "metadata": {},
   "outputs": [],
   "source": [
    "passenger = Passenger()\n",
    "passenger.first = \"Jane\"\n",
    "passenger.last = \"Doe\"\n",
    "passenger.yell_name() # \"JANE DOE\""
   ]
  },
  {
   "cell_type": "markdown",
   "metadata": {},
   "source": [
    "Great, we've filled out some functionality for our passenger class. Now lets do the same for a driver. Define a driver class in the driver.py file in your directory. Then define instance methods for a drivers first name, last name, rating, and miles driven. These attributes should be appropriately named with the leading underscore, (i.e. `_first`, `_last`, `_rating`, `_miles_driven`) and the coressponding getter and setter instance methods should be named `first`, `last`, `rating`, `miles_driven` and use the appropriate deocorators. \n",
    "\n",
    "Next, define an isntance method called `update_miles` that takes in an additional argument for the length of a ride. So, when a driver finishes a ride, it adds the new ride length to the driver's miles driven attribute and then returns the newly calculated `_miles_driven`."
   ]
  },
  {
   "cell_type": "code",
   "execution_count": null,
   "metadata": {},
   "outputs": [],
   "source": [
    "driver = Driver()\n",
    "driver.first = \"John\"\n",
    "driver.last = \"Doe\"\n",
    "driver.rating = 4.9\n",
    "driver.miles_driven = 100\n",
    "# driver finishes a ride that was 37 miles long\n",
    "# use the update_miles instance method here to update the driver's _miles_driven attribute\n",
    "driver.miles_driven # 137"
   ]
  },
  {
   "cell_type": "markdown",
   "metadata": {},
   "source": [
    "Awesome! Great work!"
   ]
  },
  {
   "cell_type": "markdown",
   "metadata": {},
   "source": [
    "## Summary\n",
    "In this lab, we practiced using attribute "
   ]
  }
 ],
 "metadata": {
  "kernelspec": {
   "display_name": "Python 3",
   "language": "python",
   "name": "python3"
  },
  "language_info": {
   "codemirror_mode": {
    "name": "ipython",
    "version": 3
   },
   "file_extension": ".py",
   "mimetype": "text/x-python",
   "name": "python",
   "nbconvert_exporter": "python",
   "pygments_lexer": "ipython3",
   "version": "3.6.5"
  }
 },
 "nbformat": 4,
 "nbformat_minor": 2
}
